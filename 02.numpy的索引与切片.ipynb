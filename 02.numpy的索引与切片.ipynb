{
 "cells": [
  {
   "cell_type": "markdown",
   "id": "1ff184f4-45c7-4b0a-a17e-e8757a677b8c",
   "metadata": {},
   "source": [
    "# numpy的索引与切片\n"
   ]
  },
  {
   "cell_type": "code",
   "execution_count": 1,
   "id": "80454056-b3c1-44ef-95b8-6a35545aceab",
   "metadata": {},
   "outputs": [],
   "source": [
    "import numpy as np"
   ]
  },
  {
   "cell_type": "code",
   "execution_count": 2,
   "id": "10ee2c46-79e3-4ac5-bcc7-b397a32b6e94",
   "metadata": {},
   "outputs": [
    {
     "data": {
      "text/plain": [
       "2"
      ]
     },
     "execution_count": 2,
     "metadata": {},
     "output_type": "execute_result"
    }
   ],
   "source": [
    "# 一维数组，两种方式\n",
    "array1 = np.array([1,2,3,4,5,6])\n",
    "array1[1]"
   ]
  },
  {
   "cell_type": "code",
   "execution_count": 3,
   "id": "5ed3336f-8ee5-4378-93c9-3e96c9519924",
   "metadata": {},
   "outputs": [
    {
     "data": {
      "text/plain": [
       "array([2])"
      ]
     },
     "execution_count": 3,
     "metadata": {},
     "output_type": "execute_result"
    }
   ],
   "source": [
    "#通过索引访问元素\n",
    "array1[[1]]"
   ]
  },
  {
   "cell_type": "code",
   "execution_count": 4,
   "id": "5f9c97d7-4ddb-4f28-9ee5-0a283adb9479",
   "metadata": {},
   "outputs": [
    {
     "data": {
      "text/plain": [
       "array([4, 5, 6])"
      ]
     },
     "execution_count": 4,
     "metadata": {},
     "output_type": "execute_result"
    }
   ],
   "source": [
    "# 使用布尔列表作为索引访问，True对应的值会被返回\n",
    "array1[array1>3]"
   ]
  },
  {
   "cell_type": "code",
   "execution_count": 5,
   "id": "7c59b70e-fd06-4b96-9472-81cae9eb824e",
   "metadata": {},
   "outputs": [
    {
     "data": {
      "text/plain": [
       "array([[ 7, 90, 94, 43,  2,  1],\n",
       "       [52, 38, 58, 21, 73, 72],\n",
       "       [47, 73, 80, 21, 54, 23],\n",
       "       [ 7, 20, 43, 87, 40, 38],\n",
       "       [68, 39, 15,  3, 24, 33]])"
      ]
     },
     "execution_count": 5,
     "metadata": {},
     "output_type": "execute_result"
    }
   ],
   "source": [
    "#二维数组的索引\n",
    "array2=np.random.randint(0,100,size=(5,6))\n",
    "array2"
   ]
  },
  {
   "cell_type": "code",
   "execution_count": 6,
   "id": "d16df610-50d3-4d45-8ee4-3d8bbbc4f0d3",
   "metadata": {},
   "outputs": [
    {
     "data": {
      "text/plain": [
       "90"
      ]
     },
     "execution_count": 6,
     "metadata": {},
     "output_type": "execute_result"
    }
   ],
   "source": [
    "#获取第一行第二个数据:方法一\n",
    "array2[0][1]"
   ]
  },
  {
   "cell_type": "code",
   "execution_count": 7,
   "id": "d7d67767-9c7d-4455-9f88-4529d45aec06",
   "metadata": {},
   "outputs": [
    {
     "data": {
      "text/plain": [
       "90"
      ]
     },
     "execution_count": 7,
     "metadata": {},
     "output_type": "execute_result"
    }
   ],
   "source": [
    "#方法二：\n",
    "array2[0,1]"
   ]
  },
  {
   "cell_type": "code",
   "execution_count": 8,
   "id": "ff0de000-d52f-4ec5-962f-71dab8aaffe9",
   "metadata": {},
   "outputs": [
    {
     "data": {
      "text/plain": [
       "array([[ 7, 90, 94, 43,  2,  1],\n",
       "       [52, 38, 58, 21, 73, 72]])"
      ]
     },
     "execution_count": 8,
     "metadata": {},
     "output_type": "execute_result"
    }
   ],
   "source": [
    "#获取前两行,左开右闭\n",
    "array2[0:2]"
   ]
  },
  {
   "cell_type": "code",
   "execution_count": 9,
   "id": "6457a3d9-13b9-4635-a0b7-5fd628c58ecc",
   "metadata": {},
   "outputs": [
    {
     "data": {
      "text/plain": [
       "array([[ 7, 90],\n",
       "       [52, 38],\n",
       "       [47, 73],\n",
       "       [ 7, 20],\n",
       "       [68, 39]])"
      ]
     },
     "execution_count": 9,
     "metadata": {},
     "output_type": "execute_result"
    }
   ],
   "source": [
    "#获取前两列，行不做筛选，全部截取后， 再截取列\n",
    "array2[:,0:2]"
   ]
  },
  {
   "cell_type": "code",
   "execution_count": 10,
   "id": "8eb5c18c-dea1-4de6-8bef-a3c93e57871c",
   "metadata": {},
   "outputs": [
    {
     "data": {
      "text/plain": [
       "array([[[62, 82, 85, 24, 38],\n",
       "        [91, 46, 68, 21, 23],\n",
       "        [59, 45, 60, 40, 94],\n",
       "        [28, 48, 35, 16, 75]],\n",
       "\n",
       "       [[75, 15, 84, 29, 18],\n",
       "        [88, 44, 56, 92, 75],\n",
       "        [90, 98, 78, 15, 59],\n",
       "        [27, 67, 96, 95, 21]],\n",
       "\n",
       "       [[75, 48, 96, 94, 59],\n",
       "        [77, 83, 93, 43, 96],\n",
       "        [90, 55, 81, 15, 36],\n",
       "        [55, 65, 52, 11, 57]]])"
      ]
     },
     "execution_count": 10,
     "metadata": {},
     "output_type": "execute_result"
    }
   ],
   "source": [
    "array3 = np.random.randint(10,100,size=(3,4,5))\n",
    "array3"
   ]
  },
  {
   "cell_type": "code",
   "execution_count": 11,
   "id": "3c58e9d5-5201-4abc-9bd2-3bcb5c26795b",
   "metadata": {},
   "outputs": [
    {
     "data": {
      "text/plain": [
       "array([62, 82, 85, 24, 38])"
      ]
     },
     "execution_count": 11,
     "metadata": {},
     "output_type": "execute_result"
    }
   ],
   "source": [
    "# 获取第一块，第一行\n",
    "array3[0][0]"
   ]
  },
  {
   "cell_type": "code",
   "execution_count": 12,
   "id": "6929f0f4-3c12-4a7b-be7d-2f407c2e967b",
   "metadata": {},
   "outputs": [
    {
     "data": {
      "text/plain": [
       "44"
      ]
     },
     "execution_count": 12,
     "metadata": {},
     "output_type": "execute_result"
    }
   ],
   "source": [
    "# 获取第二块，第二行，第二个元素\n",
    "array3[1,1,1]"
   ]
  },
  {
   "cell_type": "code",
   "execution_count": 13,
   "id": "eac3d562-1ab9-47a2-a2bd-7cb64d503d09",
   "metadata": {},
   "outputs": [
    {
     "data": {
      "text/plain": [
       "array([[75, 48],\n",
       "       [77, 83],\n",
       "       [90, 55],\n",
       "       [55, 65]])"
      ]
     },
     "execution_count": 13,
     "metadata": {},
     "output_type": "execute_result"
    }
   ],
   "source": [
    "#获取第三块，前两列, 中间行，全部取出后，在截取\n",
    "array3[2,:,0:2]"
   ]
  },
  {
   "cell_type": "code",
   "execution_count": 14,
   "id": "7472932c-7162-47b9-956a-f0c73a4517c1",
   "metadata": {},
   "outputs": [
    {
     "data": {
      "text/plain": [
       "array([[[62, 82, 85, 24, 38],\n",
       "        [91, 46, 68, 21, 23],\n",
       "        [59, 45, 60, 40, 94],\n",
       "        [28, 48, 35, 16, 75]]])"
      ]
     },
     "execution_count": 14,
     "metadata": {},
     "output_type": "execute_result"
    }
   ],
   "source": [
    "array3[0:1]"
   ]
  },
  {
   "cell_type": "markdown",
   "id": "19e09f51-7009-46dd-903d-8eabfb328315",
   "metadata": {},
   "source": [
    "# 对于切片，无论多少维，每一个维度范围都使用冒号表示，使用逗号分隔维度，"
   ]
  }
 ],
 "metadata": {
  "kernelspec": {
   "display_name": "Python 3 (ipykernel)",
   "language": "python",
   "name": "python3"
  },
  "language_info": {
   "codemirror_mode": {
    "name": "ipython",
    "version": 3
   },
   "file_extension": ".py",
   "mimetype": "text/x-python",
   "name": "python",
   "nbconvert_exporter": "python",
   "pygments_lexer": "ipython3",
   "version": "3.11.1"
  }
 },
 "nbformat": 4,
 "nbformat_minor": 5
}
