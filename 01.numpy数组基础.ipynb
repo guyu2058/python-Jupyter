{
 "cells": [
  {
   "cell_type": "markdown",
   "id": "746793d1-0974-498c-9cad-7907029abd24",
   "metadata": {},
   "source": [
    "# numpy get started\n",
    "\n",
    "- numpy 提供了一种数组类型， 高维数组，提供了一个数据分析的运算基础，\n",
    "- 一般是二维表"
   ]
  },
  {
   "cell_type": "code",
   "execution_count": 2,
   "id": "52e7f5db-1cfe-434b-b1bd-0bb27d2ea652",
   "metadata": {},
   "outputs": [],
   "source": [
    "import numpy as np"
   ]
  },
  {
   "cell_type": "code",
   "execution_count": 2,
   "id": "2d0a8605-3aaa-438c-a17d-a0bbc45d7d2f",
   "metadata": {},
   "outputs": [
    {
     "data": {
      "text/plain": [
       "'1.25.2'"
      ]
     },
     "execution_count": 2,
     "metadata": {},
     "output_type": "execute_result"
    }
   ],
   "source": [
    "np.__version__"
   ]
  },
  {
   "cell_type": "markdown",
   "id": "b218ca6a-6438-45f5-8e1b-e66c84ec6cdc",
   "metadata": {},
   "source": [
    "# 1、numpy的数组概念\n",
    "- c语言中数组是数据类型一致的连续的一个内存空间，\n",
    "- python 的列表，在c语言的描述为一个指针数组， 列表里的数据类型可以不一致，但是他们的位置指针都是相同的，\n",
    "- numpy的数组，就是一个【有序】【相同数据类型】的集合\n",
    "- numpy如果传入的类型同步，numpy会强制统一：str>flo>int\n",
    "\n",
    "   "
   ]
  },
  {
   "cell_type": "code",
   "execution_count": 3,
   "id": "bb9cee4a-9dbe-4360-a1f6-d77f05e6ea86",
   "metadata": {},
   "outputs": [],
   "source": [
    "array=np.array([1,3,14,'hello'])"
   ]
  },
  {
   "cell_type": "code",
   "execution_count": 4,
   "id": "1d3a9532-0cd0-406d-9ac5-e0cad30b0d75",
   "metadata": {},
   "outputs": [
    {
     "data": {
      "text/plain": [
       "array(['1', '3', '14', 'hello'], dtype='<U11')"
      ]
     },
     "execution_count": 4,
     "metadata": {},
     "output_type": "execute_result"
    }
   ],
   "source": [
    "array"
   ]
  },
  {
   "cell_type": "code",
   "execution_count": 5,
   "id": "77ec23e7-d622-4246-a758-8ad51ec795c5",
   "metadata": {},
   "outputs": [
    {
     "data": {
      "text/plain": [
       "array(['tom', 'hellon', 'jacky'], dtype='<U6')"
      ]
     },
     "execution_count": 5,
     "metadata": {},
     "output_type": "execute_result"
    }
   ],
   "source": [
    "names=[\"tom\",\"hellon\",\"jacky\"]\n",
    "array1= np.array(names)\n",
    "array1"
   ]
  },
  {
   "cell_type": "code",
   "execution_count": 6,
   "id": "4162a473-00d6-43eb-b61b-049e836dfd31",
   "metadata": {},
   "outputs": [
    {
     "data": {
      "text/plain": [
       "[15, 18, 22]"
      ]
     },
     "execution_count": 6,
     "metadata": {},
     "output_type": "execute_result"
    }
   ],
   "source": [
    "age =[15,18,22]\n",
    "array2 = np .array(age,dtype=np.float32)\n",
    "age"
   ]
  },
  {
   "cell_type": "markdown",
   "id": "83e8ffc7-8392-4254-9586-b444ffca5f41",
   "metadata": {},
   "source": [
    "## 1) np.ones(shape=(5,3))\n",
    "shape =(m,n) m行n列  \n",
    "shape=(m)  m个元素的一维数组  \n",
    "shape = (m,)m个元素的一维数组  \n",
    "shape =(m,1) ,m行 1列 二维数组  \n",
    "shape =(1,n)， 1行n列 二维数组  "
   ]
  },
  {
   "cell_type": "code",
   "execution_count": 7,
   "id": "7c4ebb2a-3e3b-4684-8740-0d0a281b616a",
   "metadata": {},
   "outputs": [
    {
     "data": {
      "text/plain": [
       "array([[1, 1, 1],\n",
       "       [1, 1, 1],\n",
       "       [1, 1, 1],\n",
       "       [1, 1, 1],\n",
       "       [1, 1, 1]], dtype=int8)"
      ]
     },
     "execution_count": 7,
     "metadata": {},
     "output_type": "execute_result"
    }
   ],
   "source": [
    "#构造5行3列的二维数组\n",
    "np.ones(shape=(5,3),dtype=np.int8)"
   ]
  },
  {
   "cell_type": "code",
   "execution_count": 8,
   "id": "11e40356-639a-42bc-8725-e6c85ab0704b",
   "metadata": {},
   "outputs": [
    {
     "data": {
      "text/plain": [
       "array([1., 1., 1.])"
      ]
     },
     "execution_count": 8,
     "metadata": {},
     "output_type": "execute_result"
    }
   ],
   "source": [
    "#构造长度为3的一维数组\n",
    "np.ones(shape=(3))"
   ]
  },
  {
   "cell_type": "code",
   "execution_count": 9,
   "id": "400ece6f-8f09-417b-b701-5c0a12a3c076",
   "metadata": {},
   "outputs": [
    {
     "data": {
      "text/plain": [
       "array([[1.],\n",
       "       [1.],\n",
       "       [1.]])"
      ]
     },
     "execution_count": 9,
     "metadata": {},
     "output_type": "execute_result"
    }
   ],
   "source": [
    "#构造一个3行1列的二维数组\n",
    "np.ones(shape=(3,1))"
   ]
  },
  {
   "cell_type": "code",
   "execution_count": 10,
   "id": "6bb63780-b62b-46de-8f20-a8751c36e80d",
   "metadata": {
    "scrolled": true
   },
   "outputs": [
    {
     "data": {
      "text/plain": [
       "array([[1., 1., 1.]])"
      ]
     },
     "execution_count": 10,
     "metadata": {},
     "output_type": "execute_result"
    }
   ],
   "source": [
    "#构造一个1行3列的二维数组\n",
    "np.ones(shape=(1,3))"
   ]
  },
  {
   "cell_type": "markdown",
   "id": "f15fed5a-9a13-4521-9c5e-879f6c051ddc",
   "metadata": {},
   "source": [
    "## 2） np.zeros(shape,dtype=float,order='C')"
   ]
  },
  {
   "cell_type": "code",
   "execution_count": 11,
   "id": "a0aca0a3-87f7-4744-b7fb-04ad7c1bde9d",
   "metadata": {},
   "outputs": [
    {
     "data": {
      "text/plain": [
       "array([[0., 0., 0., 0., 0., 0.],\n",
       "       [0., 0., 0., 0., 0., 0.],\n",
       "       [0., 0., 0., 0., 0., 0.],\n",
       "       [0., 0., 0., 0., 0., 0.],\n",
       "       [0., 0., 0., 0., 0., 0.]])"
      ]
     },
     "execution_count": 11,
     "metadata": {},
     "output_type": "execute_result"
    }
   ],
   "source": [
    "np.zeros(shape=(5,6))"
   ]
  },
  {
   "cell_type": "code",
   "execution_count": 12,
   "id": "2d83253f-6eff-4734-a106-c46083ba5854",
   "metadata": {},
   "outputs": [
    {
     "data": {
      "text/plain": [
       "array([[[0., 0., 0., 0.],\n",
       "        [0., 0., 0., 0.],\n",
       "        [0., 0., 0., 0.]],\n",
       "\n",
       "       [[0., 0., 0., 0.],\n",
       "        [0., 0., 0., 0.],\n",
       "        [0., 0., 0., 0.]]])"
      ]
     },
     "execution_count": 12,
     "metadata": {},
     "output_type": "execute_result"
    }
   ],
   "source": [
    "# 构造一个三维数组,\n",
    "np.zeros(shape=(2,3,4))"
   ]
  },
  {
   "cell_type": "markdown",
   "id": "3f77392d-b7d6-4fd6-891b-230b780f7074",
   "metadata": {},
   "source": [
    "## 3) np.full(shape,fill_value,dtype=None,order='C')"
   ]
  },
  {
   "cell_type": "code",
   "execution_count": 13,
   "id": "5528d1ee-d988-41e7-9c5d-fa13e411c77b",
   "metadata": {},
   "outputs": [
    {
     "data": {
      "text/plain": [
       "array([[6, 6, 6],\n",
       "       [6, 6, 6]])"
      ]
     },
     "execution_count": 13,
     "metadata": {},
     "output_type": "execute_result"
    }
   ],
   "source": [
    "np.full(shape=(2,3),fill_value=6)"
   ]
  },
  {
   "cell_type": "markdown",
   "id": "4201df9d-ea54-454b-a8a8-c765574f63e2",
   "metadata": {},
   "source": [
    "## 4) np.eye(N,M=None,K=0,dtype=float)"
   ]
  },
  {
   "cell_type": "code",
   "execution_count": 14,
   "id": "fb33d9c4-9214-4f90-9d79-92e37efdb9ee",
   "metadata": {},
   "outputs": [
    {
     "data": {
      "text/plain": [
       "array([[1., 0., 0.],\n",
       "       [0., 1., 0.],\n",
       "       [0., 0., 1.]])"
      ]
     },
     "execution_count": 14,
     "metadata": {},
     "output_type": "execute_result"
    }
   ],
   "source": [
    "#单位矩阵，L2正则项\n",
    "#生成一个三阶单位矩阵\n",
    "np.eye(N=3)"
   ]
  },
  {
   "cell_type": "code",
   "execution_count": 15,
   "id": "f8282e45-7232-4a2c-8fc5-b9a3a4c7e098",
   "metadata": {
    "scrolled": true
   },
   "outputs": [
    {
     "data": {
      "text/plain": [
       "array([[1., 0., 0., 0.],\n",
       "       [0., 1., 0., 0.],\n",
       "       [0., 0., 1., 0.]])"
      ]
     },
     "execution_count": 15,
     "metadata": {},
     "output_type": "execute_result"
    }
   ],
   "source": [
    "np.eye(N=3,M=4)"
   ]
  },
  {
   "cell_type": "code",
   "execution_count": 16,
   "id": "6bbedc77-6757-490d-ac93-fb1651aded99",
   "metadata": {},
   "outputs": [
    {
     "data": {
      "text/plain": [
       "array([[0., 1., 0., 0., 0.],\n",
       "       [0., 0., 1., 0., 0.],\n",
       "       [0., 0., 0., 1., 0.],\n",
       "       [0., 0., 0., 0., 1.],\n",
       "       [0., 0., 0., 0., 0.]])"
      ]
     },
     "execution_count": 16,
     "metadata": {},
     "output_type": "execute_result"
    }
   ],
   "source": [
    "np.eye(N=5,k=1)"
   ]
  },
  {
   "cell_type": "markdown",
   "id": "99dd359e-5aab-4293-a546-7467767ce372",
   "metadata": {},
   "source": [
    "## 5)np.linspace(start,stop,num=50,endpoint=True,retstep=False,dtype=None)"
   ]
  },
  {
   "cell_type": "code",
   "execution_count": 17,
   "id": "b5d82d91-f0f0-4ba8-b43f-edd527a22aa5",
   "metadata": {},
   "outputs": [
    {
     "data": {
      "text/plain": [
       "array([ 0.        ,  1.11111111,  2.22222222,  3.33333333,  4.44444444,\n",
       "        5.55555556,  6.66666667,  7.77777778,  8.88888889, 10.        ])"
      ]
     },
     "execution_count": 17,
     "metadata": {},
     "output_type": "execute_result"
    }
   ],
   "source": [
    "#等差数列\n",
    "np.linspace(0,10,10)"
   ]
  },
  {
   "cell_type": "code",
   "execution_count": 18,
   "id": "dce11297-338e-47fc-999e-572098cb7491",
   "metadata": {},
   "outputs": [
    {
     "data": {
      "text/plain": [
       "array([ 1.,  2.,  3.,  4.,  5.,  6.,  7.,  8.,  9., 10.])"
      ]
     },
     "execution_count": 18,
     "metadata": {},
     "output_type": "execute_result"
    }
   ],
   "source": [
    "np.linspace(1,10,10)"
   ]
  },
  {
   "cell_type": "code",
   "execution_count": 19,
   "id": "4a13ca05-d81b-4c6e-a394-0a875cf8c6ac",
   "metadata": {},
   "outputs": [
    {
     "data": {
      "text/plain": [
       "array([0., 1., 2., 3., 4., 5., 6., 7., 8., 9.])"
      ]
     },
     "execution_count": 19,
     "metadata": {},
     "output_type": "execute_result"
    }
   ],
   "source": [
    "np.linspace(0,10,10,endpoint=False)"
   ]
  },
  {
   "cell_type": "markdown",
   "id": "cefda793-1f40-4a3a-acd3-a026f54eae0b",
   "metadata": {},
   "source": [
    "## 6) np.arange(start,stop,step, dtype-None)"
   ]
  },
  {
   "cell_type": "code",
   "execution_count": 20,
   "id": "850cce1b-05eb-4c02-9189-89f0a565717e",
   "metadata": {},
   "outputs": [
    {
     "data": {
      "text/plain": [
       "array([0, 1, 2, 3, 4, 5, 6, 7, 8, 9])"
      ]
     },
     "execution_count": 20,
     "metadata": {},
     "output_type": "execute_result"
    }
   ],
   "source": [
    "np.arange(0,10,step=1)"
   ]
  },
  {
   "cell_type": "markdown",
   "id": "a277b65b-9fb8-4768-bdc2-9a2371a51990",
   "metadata": {},
   "source": [
    "## 7）np.random.ranint(low,high=None,size=None,dtype='l')"
   ]
  },
  {
   "cell_type": "code",
   "execution_count": 21,
   "id": "e746aea9-506e-412b-a3cd-8cb52b585157",
   "metadata": {},
   "outputs": [
    {
     "data": {
      "text/plain": [
       "array([[24, 23, 24, 85, 33],\n",
       "       [70, 80, 15, 40, 70],\n",
       "       [81, 35, 44, 94, 28],\n",
       "       [10, 13, 30, 78, 12],\n",
       "       [95, 61, 90, 27, 38]])"
      ]
     },
     "execution_count": 21,
     "metadata": {},
     "output_type": "execute_result"
    }
   ],
   "source": [
    "# size 同 shape\n",
    "np.random.randint(10,100,size=(5,5))"
   ]
  },
  {
   "cell_type": "markdown",
   "id": "63dd7b1e-b2bb-42c7-9d14-e38775e6e709",
   "metadata": {},
   "source": [
    "## 8) 正态分布函数\n",
    "- np.random.randn(d0,d1,……dn) 标准正太分布 [-1,0,1]\n",
    "- np.random.normal()普通正态分布\n",
    "  "
   ]
  },
  {
   "cell_type": "code",
   "execution_count": 22,
   "id": "cae48b65-f111-495e-ab1b-7e47778d5619",
   "metadata": {},
   "outputs": [
    {
     "data": {
      "text/plain": [
       "array([[0.01021104, 0.58039702, 0.82856627, 0.80479887, 0.46503711],\n",
       "       [0.02031849, 0.39185965, 0.88782964, 0.36292203, 0.3890956 ],\n",
       "       [0.70612938, 0.45440232, 0.29456448, 0.22308439, 0.15119055]])"
      ]
     },
     "execution_count": 22,
     "metadata": {},
     "output_type": "execute_result"
    }
   ],
   "source": [
    "np.random.rand(3,5)"
   ]
  },
  {
   "cell_type": "code",
   "execution_count": 23,
   "id": "5c9a7984-147d-4869-ae1f-e5b288d45963",
   "metadata": {},
   "outputs": [
    {
     "data": {
      "text/plain": [
       "array([[186.01660832, 169.41505416, 161.18853552],\n",
       "       [166.10032563, 158.63430226, 159.01237495],\n",
       "       [168.32062759, 162.80447098, 187.00449687],\n",
       "       [183.27782004, 170.08325622, 159.71792621],\n",
       "       [162.19383933, 176.5040766 , 170.93824097]])"
      ]
     },
     "execution_count": 23,
     "metadata": {},
     "output_type": "execute_result"
    }
   ],
   "source": [
    "np.random.normal(loc=170,scale=10,size=(5,3))"
   ]
  },
  {
   "cell_type": "markdown",
   "id": "e0245f1c-a183-4b95-b863-76a6797cee24",
   "metadata": {},
   "source": [
    "## 9) np.random.random(size=None)\n",
    "- 生成0到1的随机数，左闭右开\n",
    "  "
   ]
  },
  {
   "cell_type": "code",
   "execution_count": 24,
   "id": "5469e831-e5e7-4e2a-9c7c-e80e025cb979",
   "metadata": {},
   "outputs": [
    {
     "data": {
      "text/plain": [
       "array([[0.20970342, 0.32998199, 0.43755377, 0.96282045, 0.11719643],\n",
       "       [0.96474927, 0.48359832, 0.82002025, 0.90170698, 0.2808117 ],\n",
       "       [0.23330435, 0.7225797 , 0.70509206, 0.168703  , 0.81205092]])"
      ]
     },
     "execution_count": 24,
     "metadata": {},
     "output_type": "execute_result"
    }
   ],
   "source": [
    "np.random.random(size=(3,5))"
   ]
  },
  {
   "cell_type": "markdown",
   "id": "0eafe103-d49a-4fab-932f-fa9905220e5a",
   "metadata": {},
   "source": [
    "## 10) 生成随机索引， 元素不重复"
   ]
  },
  {
   "cell_type": "code",
   "execution_count": 25,
   "id": "235d0d9e-40d1-47c7-b678-4e5c2b188e6e",
   "metadata": {},
   "outputs": [
    {
     "data": {
      "text/plain": [
       "array([8, 9, 3, 4, 2, 6, 0, 1, 5, 7])"
      ]
     },
     "execution_count": 25,
     "metadata": {},
     "output_type": "execute_result"
    }
   ],
   "source": [
    "np.random.permutation(10)"
   ]
  },
  {
   "cell_type": "markdown",
   "id": "ceff2818-7c7c-4999-95b5-37d0a321ab2e",
   "metadata": {},
   "source": [
    " ## 汇总\n",
    "- <font color=red>np.ones(shape=(3,3))</font>  \n",
    "- np.zeros(shape=(5,3),dtype=float,order='C')  \n",
    "- np.full(shape=(3,3),fill_value=6)  \n",
    "- np.eye(N,M=None,K=0,dtype=float)\n",
    "- np.linspace(start,stop,num=50,endpoint=True,retstep=False,dtype=None)\n",
    "- np.arange(start,stop,step, dtype-None)\n",
    "- **np.random.ranint(low,high=None,size=None,dtype='l')**\n",
    "- np.random.randn(d0,d1,……dn) =>标准正太分布 [-1,0,1]  \n",
    "- np.random.normal()  =>普通正态分布  \n",
    "- np.random.random(size=(3,5))\n",
    "- **np.random.permutation(10)** "
   ]
  },
  {
   "cell_type": "code",
   "execution_count": 13,
   "id": "130b098d-0290-44c8-a395-cbcace72bbaf",
   "metadata": {},
   "outputs": [
    {
     "data": {
      "text/plain": [
       "array([[1., 0., 0.],\n",
       "       [0., 1., 0.],\n",
       "       [0., 0., 1.]])"
      ]
     },
     "execution_count": 13,
     "metadata": {},
     "output_type": "execute_result"
    }
   ],
   "source": [
    "arr= np.eye(3)\n",
    "arr"
   ]
  }
 ],
 "metadata": {
  "kernelspec": {
   "display_name": "Python 3 (ipykernel)",
   "language": "python",
   "name": "python3"
  },
  "language_info": {
   "codemirror_mode": {
    "name": "ipython",
    "version": 3
   },
   "file_extension": ".py",
   "mimetype": "text/x-python",
   "name": "python",
   "nbconvert_exporter": "python",
   "pygments_lexer": "ipython3",
   "version": "3.10.7"
  }
 },
 "nbformat": 4,
 "nbformat_minor": 5
}
