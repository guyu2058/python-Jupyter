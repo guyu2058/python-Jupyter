{
 "cells": [
  {
   "cell_type": "code",
   "execution_count": 2,
   "id": "b990c683-f1ea-44b4-8b1e-573890a9559b",
   "metadata": {},
   "outputs": [],
   "source": [
    "import numpy as np\n",
    "import pandas as pd\n",
    "from pandas import Series, DataFrame\n",
    "    "
   ]
  },
  {
   "cell_type": "markdown",
   "id": "faf78b9a-d3ac-487c-ab29-14c5c84c012a",
   "metadata": {},
   "source": [
    "# 1 如何创建多层级索引\n",
    "\n",
    "- 显示构造pd.Multilndex  \n",
    "    。使用数组   =>#from_arrays   \n",
    "    。使用tuple  => #from_tuples  \n",
    "    。使用product =>  #from_product  \n",
    "    "
   ]
  },
  {
   "cell_type": "code",
   "execution_count": 18,
   "id": "20df0f5a-14b8-476e-8b3d-227dae734c01",
   "metadata": {},
   "outputs": [
    {
     "data": {
      "text/html": [
       "<div>\n",
       "<style scoped>\n",
       "    .dataframe tbody tr th:only-of-type {\n",
       "        vertical-align: middle;\n",
       "    }\n",
       "\n",
       "    .dataframe tbody tr th {\n",
       "        vertical-align: top;\n",
       "    }\n",
       "\n",
       "    .dataframe thead tr th {\n",
       "        text-align: left;\n",
       "    }\n",
       "</style>\n",
       "<table border=\"1\" class=\"dataframe\">\n",
       "  <thead>\n",
       "    <tr>\n",
       "      <th></th>\n",
       "      <th colspan=\"3\" halign=\"left\">上半年</th>\n",
       "      <th colspan=\"3\" halign=\"left\">下半年</th>\n",
       "    </tr>\n",
       "    <tr>\n",
       "      <th></th>\n",
       "      <th>收入</th>\n",
       "      <th>成本</th>\n",
       "      <th>费用</th>\n",
       "      <th>收入</th>\n",
       "      <th>成本</th>\n",
       "      <th>费用</th>\n",
       "    </tr>\n",
       "  </thead>\n",
       "  <tbody>\n",
       "    <tr>\n",
       "      <th>92#</th>\n",
       "      <td>1000</td>\n",
       "      <td>500</td>\n",
       "      <td>200</td>\n",
       "      <td>2000</td>\n",
       "      <td>600</td>\n",
       "      <td>200</td>\n",
       "    </tr>\n",
       "    <tr>\n",
       "      <th>95#</th>\n",
       "      <td>2000</td>\n",
       "      <td>1000</td>\n",
       "      <td>500</td>\n",
       "      <td>3000</td>\n",
       "      <td>1200</td>\n",
       "      <td>500</td>\n",
       "    </tr>\n",
       "    <tr>\n",
       "      <th>98#</th>\n",
       "      <td>3000</td>\n",
       "      <td>1500</td>\n",
       "      <td>800</td>\n",
       "      <td>4000</td>\n",
       "      <td>1800</td>\n",
       "      <td>800</td>\n",
       "    </tr>\n",
       "  </tbody>\n",
       "</table>\n",
       "</div>"
      ],
      "text/plain": [
       "      上半年              下半年           \n",
       "       收入    成本   费用    收入    成本   费用\n",
       "92#  1000   500  200  2000   600  200\n",
       "95#  2000  1000  500  3000  1200  500\n",
       "98#  3000  1500  800  4000  1800  800"
      ]
     },
     "execution_count": 18,
     "metadata": {},
     "output_type": "execute_result"
    }
   ],
   "source": [
    "pd.read_excel(\"案例.xlsx\")\n",
    "df = pd.read_excel(\"案例.xlsx\", header=[0,1],index_col=0)\n",
    "df"
   ]
  },
  {
   "cell_type": "code",
   "execution_count": 16,
   "id": "35300648-2b0f-4e04-9e82-2281af0605ec",
   "metadata": {},
   "outputs": [
    {
     "data": {
      "text/plain": [
       "MultiIndex([('上半年', '收入'),\n",
       "            ('上半年', '成本'),\n",
       "            ('上半年', '费用'),\n",
       "            ('下半年', '收入'),\n",
       "            ('下半年', '成本'),\n",
       "            ('下半年', '费用')],\n",
       "           )"
      ]
     },
     "execution_count": 16,
     "metadata": {},
     "output_type": "execute_result"
    }
   ],
   "source": [
    "df.columns"
   ]
  },
  {
   "cell_type": "code",
   "execution_count": 26,
   "id": "7eecaf37-b053-41da-bb91-8a161d20518c",
   "metadata": {},
   "outputs": [
    {
     "data": {
      "text/html": [
       "<div>\n",
       "<style scoped>\n",
       "    .dataframe tbody tr th:only-of-type {\n",
       "        vertical-align: middle;\n",
       "    }\n",
       "\n",
       "    .dataframe tbody tr th {\n",
       "        vertical-align: top;\n",
       "    }\n",
       "\n",
       "    .dataframe thead tr th {\n",
       "        text-align: left;\n",
       "    }\n",
       "</style>\n",
       "<table border=\"1\" class=\"dataframe\">\n",
       "  <thead>\n",
       "    <tr>\n",
       "      <th></th>\n",
       "      <th colspan=\"3\" halign=\"left\">上半年</th>\n",
       "      <th colspan=\"3\" halign=\"left\">下半年</th>\n",
       "    </tr>\n",
       "    <tr>\n",
       "      <th></th>\n",
       "      <th>收入</th>\n",
       "      <th>成本</th>\n",
       "      <th>费用</th>\n",
       "      <th>收入</th>\n",
       "      <th>成本</th>\n",
       "      <th>费用</th>\n",
       "    </tr>\n",
       "  </thead>\n",
       "  <tbody>\n",
       "    <tr>\n",
       "      <th>92#</th>\n",
       "      <td>819</td>\n",
       "      <td>44</td>\n",
       "      <td>669</td>\n",
       "      <td>41</td>\n",
       "      <td>473</td>\n",
       "      <td>947</td>\n",
       "    </tr>\n",
       "    <tr>\n",
       "      <th>95#</th>\n",
       "      <td>193</td>\n",
       "      <td>430</td>\n",
       "      <td>637</td>\n",
       "      <td>738</td>\n",
       "      <td>192</td>\n",
       "      <td>444</td>\n",
       "    </tr>\n",
       "    <tr>\n",
       "      <th>98#</th>\n",
       "      <td>371</td>\n",
       "      <td>943</td>\n",
       "      <td>629</td>\n",
       "      <td>735</td>\n",
       "      <td>386</td>\n",
       "      <td>955</td>\n",
       "    </tr>\n",
       "  </tbody>\n",
       "</table>\n",
       "</div>"
      ],
      "text/plain": [
       "     上半年            下半年          \n",
       "      收入   成本   费用   收入   成本   费用\n",
       "92#  819   44  669   41  473  947\n",
       "95#  193  430  637  738  192  444\n",
       "98#  371  943  629  735  386  955"
      ]
     },
     "execution_count": 26,
     "metadata": {},
     "output_type": "execute_result"
    }
   ],
   "source": [
    "#pd.MultiIndex.from_product\n",
    "columns = pd.MultiIndex.from_product([[\"上半年\",\"下半年\"],[\"收入\",\"成本\",\"费用\"]])\n",
    "index = [\"92#\",\"95#\",\"98#\"]\n",
    "data = np.random.randint(0,1000,size=(3,6))\n",
    "DataFrame(data=data, index=index,columns=columns)"
   ]
  },
  {
   "cell_type": "code",
   "execution_count": 29,
   "id": "df07ee1c-c860-4eae-bd31-d0b2f619d9ee",
   "metadata": {},
   "outputs": [
    {
     "data": {
      "text/plain": [
       "MultiIndex([('上半年', '收入'),\n",
       "            ('上半年', '成本'),\n",
       "            ('上半年', '费用'),\n",
       "            ('下半年', '收入'),\n",
       "            ('下半年', '成本'),\n",
       "            ('下半年', '费用')],\n",
       "           )"
      ]
     },
     "execution_count": 29,
     "metadata": {},
     "output_type": "execute_result"
    }
   ],
   "source": [
    "# pd.MultiIndex.from_arrays\n",
    "arr =[[\"上半年\",\"上半年\",\"上半年\",\"下半年\",\"下半年\",\"下半年\"],[\"收入\",\"成本\",\"费用\",\"收入\",\"成本\",\"费用\"]]\n",
    "columns = pd.MultiIndex.from_arrays(arr)\n",
    "columns"
   ]
  },
  {
   "cell_type": "code",
   "execution_count": 31,
   "id": "02d350bf-5f83-4a2f-b2a2-ee79d2496d89",
   "metadata": {
    "scrolled": true
   },
   "outputs": [
    {
     "data": {
      "text/plain": [
       "MultiIndex([('上半年', '收入'),\n",
       "            ('上半年', '成本'),\n",
       "            ('上半年', '费用'),\n",
       "            ('下半年', '收入'),\n",
       "            ('下半年', '成本'),\n",
       "            ('下半年', '费用')],\n",
       "           )"
      ]
     },
     "execution_count": 31,
     "metadata": {},
     "output_type": "execute_result"
    }
   ],
   "source": [
    "# pd.MultiIndex.from_tupls\n",
    "tup =(('上半年', '收入'),\n",
    "            ('上半年', '成本'),\n",
    "            ('上半年', '费用'),\n",
    "            ('下半年', '收入'),\n",
    "            ('下半年', '成本'),\n",
    "            ('下半年', '费用'))\n",
    "columns = pd.MultiIndex.from_tuples(tup)\n",
    "columns"
   ]
  },
  {
   "cell_type": "code",
   "execution_count": 33,
   "id": "2b3306bb-651b-4770-81df-da089a93de34",
   "metadata": {},
   "outputs": [
    {
     "data": {
      "text/html": [
       "<div>\n",
       "<style scoped>\n",
       "    .dataframe tbody tr th:only-of-type {\n",
       "        vertical-align: middle;\n",
       "    }\n",
       "\n",
       "    .dataframe tbody tr th {\n",
       "        vertical-align: top;\n",
       "    }\n",
       "\n",
       "    .dataframe thead tr th {\n",
       "        text-align: left;\n",
       "    }\n",
       "</style>\n",
       "<table border=\"1\" class=\"dataframe\">\n",
       "  <thead>\n",
       "    <tr>\n",
       "      <th></th>\n",
       "      <th colspan=\"3\" halign=\"left\">期中</th>\n",
       "      <th colspan=\"3\" halign=\"left\">期末</th>\n",
       "    </tr>\n",
       "    <tr>\n",
       "      <th></th>\n",
       "      <th>python</th>\n",
       "      <th>java</th>\n",
       "      <th>C++</th>\n",
       "      <th>python</th>\n",
       "      <th>java</th>\n",
       "      <th>C++</th>\n",
       "    </tr>\n",
       "  </thead>\n",
       "  <tbody>\n",
       "    <tr>\n",
       "      <th>张三</th>\n",
       "      <td>72</td>\n",
       "      <td>26</td>\n",
       "      <td>14</td>\n",
       "      <td>55</td>\n",
       "      <td>58</td>\n",
       "      <td>96</td>\n",
       "    </tr>\n",
       "    <tr>\n",
       "      <th>李四</th>\n",
       "      <td>74</td>\n",
       "      <td>42</td>\n",
       "      <td>55</td>\n",
       "      <td>99</td>\n",
       "      <td>48</td>\n",
       "      <td>87</td>\n",
       "    </tr>\n",
       "  </tbody>\n",
       "</table>\n",
       "</div>"
      ],
      "text/plain": [
       "       期中              期末         \n",
       "   python java C++ python java C++\n",
       "张三     72   26  14     55   58  96\n",
       "李四     74   42  55     99   48  87"
      ]
     },
     "execution_count": 33,
     "metadata": {},
     "output_type": "execute_result"
    }
   ],
   "source": [
    "index_col = [\"张三\",\"李四\"]\n",
    "columns  = pd.MultiIndex.from_product([[\"期中\",\"期末\"],[\"python\",\"java\",\"C++\"]])\n",
    "data = np.random.randint(10,100,size=(2,6))\n",
    "df = DataFrame(data=data, index=index_col,columns=columns)\n",
    "df"
   ]
  },
  {
   "cell_type": "code",
   "execution_count": 4,
   "id": "41ac6403-e449-4cc7-8142-18056a5980f0",
   "metadata": {},
   "outputs": [
    {
     "data": {
      "text/html": [
       "<div>\n",
       "<style scoped>\n",
       "    .dataframe tbody tr th:only-of-type {\n",
       "        vertical-align: middle;\n",
       "    }\n",
       "\n",
       "    .dataframe tbody tr th {\n",
       "        vertical-align: top;\n",
       "    }\n",
       "\n",
       "    .dataframe thead th {\n",
       "        text-align: right;\n",
       "    }\n",
       "</style>\n",
       "<table border=\"1\" class=\"dataframe\">\n",
       "  <thead>\n",
       "    <tr style=\"text-align: right;\">\n",
       "      <th></th>\n",
       "      <th></th>\n",
       "      <th>python</th>\n",
       "      <th>java</th>\n",
       "      <th>C++</th>\n",
       "    </tr>\n",
       "  </thead>\n",
       "  <tbody>\n",
       "    <tr>\n",
       "      <th rowspan=\"2\" valign=\"top\">期中</th>\n",
       "      <th>张三</th>\n",
       "      <td>65</td>\n",
       "      <td>81</td>\n",
       "      <td>79</td>\n",
       "    </tr>\n",
       "    <tr>\n",
       "      <th>李四</th>\n",
       "      <td>65</td>\n",
       "      <td>55</td>\n",
       "      <td>86</td>\n",
       "    </tr>\n",
       "    <tr>\n",
       "      <th rowspan=\"2\" valign=\"top\">期末</th>\n",
       "      <th>张三</th>\n",
       "      <td>43</td>\n",
       "      <td>33</td>\n",
       "      <td>47</td>\n",
       "    </tr>\n",
       "    <tr>\n",
       "      <th>李四</th>\n",
       "      <td>37</td>\n",
       "      <td>25</td>\n",
       "      <td>54</td>\n",
       "    </tr>\n",
       "  </tbody>\n",
       "</table>\n",
       "</div>"
      ],
      "text/plain": [
       "       python  java  C++\n",
       "期中 张三      65    81   79\n",
       "   李四      65    55   86\n",
       "期末 张三      43    33   47\n",
       "   李四      37    25   54"
      ]
     },
     "execution_count": 4,
     "metadata": {},
     "output_type": "execute_result"
    }
   ],
   "source": [
    "index= pd.MultiIndex.from_product([[\"期中\",\"期末\"],[\"张三\",\"李四\"]])\n",
    "columns = [\"python\",\"java\",\"C++\"]\n",
    "data = np.random.randint(10,100,size=(4,3))\n",
    "df = DataFrame(data=data,index=index,columns=columns)\n",
    "df"
   ]
  },
  {
   "cell_type": "markdown",
   "id": "33a40a7c-fbc3-4b44-9b2d-ee3df73cfdcf",
   "metadata": {},
   "source": [
    "# 2 多层索引的访问（索引|切片）\n",
    "- 多层索引使用元祖表达索引逻辑  \n",
    "- 隐式索引永远是单层级，不会收到多层索引影响\n",
    "- "
   ]
  },
  {
   "cell_type": "code",
   "execution_count": 34,
   "id": "44589278-c602-4b2b-bba8-369f151a1919",
   "metadata": {},
   "outputs": [
    {
     "data": {
      "text/plain": [
       "'2.1.0'"
      ]
     },
     "execution_count": 34,
     "metadata": {},
     "output_type": "execute_result"
    }
   ],
   "source": [
    "pd.__version__"
   ]
  },
  {
   "cell_type": "code",
   "execution_count": 12,
   "id": "98be329f-1205-4020-8dff-ccea6b8fb01c",
   "metadata": {},
   "outputs": [],
   "source": [
    "Python=df[\"python\"]"
   ]
  },
  {
   "cell_type": "code",
   "execution_count": 13,
   "id": "89973667-5cd4-45c8-96ef-d993c0b35bdb",
   "metadata": {},
   "outputs": [
    {
     "data": {
      "text/plain": [
       "28"
      ]
     },
     "execution_count": 13,
     "metadata": {},
     "output_type": "execute_result"
    }
   ],
   "source": [
    "#多层索引使用元祖来表达索引逻辑\n",
    "df[\"python\"].loc[(\"期中\",\"张三\")]"
   ]
  },
  {
   "cell_type": "code",
   "execution_count": 15,
   "id": "7fde450c-0fd0-4f2e-8df1-2cab661f4956",
   "metadata": {},
   "outputs": [
    {
     "data": {
      "text/plain": [
       "28"
      ]
     },
     "execution_count": 15,
     "metadata": {},
     "output_type": "execute_result"
    }
   ],
   "source": [
    "#多层级调成单层级，\n",
    "df[\"python\"].loc[\"期中\"].loc[\"张三\"]"
   ]
  },
  {
   "cell_type": "code",
   "execution_count": 15,
   "id": "1e700093-350f-40e7-83ae-70699a0ab50e",
   "metadata": {},
   "outputs": [
    {
     "data": {
      "text/plain": [
       "期中  张三    65\n",
       "期末  张三    43\n",
       "Name: python, dtype: int32"
      ]
     },
     "execution_count": 15,
     "metadata": {},
     "output_type": "execute_result"
    }
   ],
   "source": [
    "# 切片\n",
    "index1=(\"期中\",\"张三\")\n",
    "index2=(\"期末\",\"张三\")\n",
    "Python.loc[(\"期中\",\"张三\"):(\"期末\",\"张三\")]\n",
    "#访问\n",
    "Python.loc[[index1,index2]]"
   ]
  },
  {
   "cell_type": "code",
   "execution_count": 5,
   "id": "75b6763b-62c3-4d50-b329-a45b599eb6f1",
   "metadata": {},
   "outputs": [
    {
     "data": {
      "text/html": [
       "<div>\n",
       "<style scoped>\n",
       "    .dataframe tbody tr th:only-of-type {\n",
       "        vertical-align: middle;\n",
       "    }\n",
       "\n",
       "    .dataframe tbody tr th {\n",
       "        vertical-align: top;\n",
       "    }\n",
       "\n",
       "    .dataframe thead th {\n",
       "        text-align: right;\n",
       "    }\n",
       "</style>\n",
       "<table border=\"1\" class=\"dataframe\">\n",
       "  <thead>\n",
       "    <tr style=\"text-align: right;\">\n",
       "      <th></th>\n",
       "      <th></th>\n",
       "      <th>python</th>\n",
       "      <th>java</th>\n",
       "      <th>C++</th>\n",
       "    </tr>\n",
       "  </thead>\n",
       "  <tbody>\n",
       "    <tr>\n",
       "      <th rowspan=\"2\" valign=\"top\">期中</th>\n",
       "      <th>张三</th>\n",
       "      <td>65</td>\n",
       "      <td>81</td>\n",
       "      <td>79</td>\n",
       "    </tr>\n",
       "    <tr>\n",
       "      <th>李四</th>\n",
       "      <td>65</td>\n",
       "      <td>55</td>\n",
       "      <td>86</td>\n",
       "    </tr>\n",
       "    <tr>\n",
       "      <th rowspan=\"2\" valign=\"top\">期末</th>\n",
       "      <th>张三</th>\n",
       "      <td>43</td>\n",
       "      <td>33</td>\n",
       "      <td>47</td>\n",
       "    </tr>\n",
       "    <tr>\n",
       "      <th>李四</th>\n",
       "      <td>37</td>\n",
       "      <td>25</td>\n",
       "      <td>54</td>\n",
       "    </tr>\n",
       "  </tbody>\n",
       "</table>\n",
       "</div>"
      ],
      "text/plain": [
       "       python  java  C++\n",
       "期中 张三      65    81   79\n",
       "   李四      65    55   86\n",
       "期末 张三      43    33   47\n",
       "   李四      37    25   54"
      ]
     },
     "execution_count": 5,
     "metadata": {},
     "output_type": "execute_result"
    }
   ],
   "source": [
    "df"
   ]
  },
  {
   "cell_type": "code",
   "execution_count": 8,
   "id": "045f3b01-0089-4fe6-81b2-c5988a69b159",
   "metadata": {},
   "outputs": [
    {
     "data": {
      "text/plain": [
       "81"
      ]
     },
     "execution_count": 8,
     "metadata": {},
     "output_type": "execute_result"
    }
   ],
   "source": [
    "# 访问期中张三的java成绩\n",
    "index=(\"期中\",\"张三\")\n",
    "columns = \"java\"\n",
    "df.loc[index,columns]"
   ]
  },
  {
   "cell_type": "code",
   "execution_count": 17,
   "id": "2cea9cf5-6900-4e3b-9c40-296264d6a8f9",
   "metadata": {},
   "outputs": [
    {
     "data": {
      "text/html": [
       "<div>\n",
       "<style scoped>\n",
       "    .dataframe tbody tr th:only-of-type {\n",
       "        vertical-align: middle;\n",
       "    }\n",
       "\n",
       "    .dataframe tbody tr th {\n",
       "        vertical-align: top;\n",
       "    }\n",
       "\n",
       "    .dataframe thead th {\n",
       "        text-align: right;\n",
       "    }\n",
       "</style>\n",
       "<table border=\"1\" class=\"dataframe\">\n",
       "  <thead>\n",
       "    <tr style=\"text-align: right;\">\n",
       "      <th></th>\n",
       "      <th></th>\n",
       "      <th>python</th>\n",
       "      <th>java</th>\n",
       "    </tr>\n",
       "  </thead>\n",
       "  <tbody>\n",
       "    <tr>\n",
       "      <th rowspan=\"2\" valign=\"top\">期中</th>\n",
       "      <th>张三</th>\n",
       "      <td>65</td>\n",
       "      <td>81</td>\n",
       "    </tr>\n",
       "    <tr>\n",
       "      <th>李四</th>\n",
       "      <td>65</td>\n",
       "      <td>55</td>\n",
       "    </tr>\n",
       "    <tr>\n",
       "      <th rowspan=\"2\" valign=\"top\">期末</th>\n",
       "      <th>张三</th>\n",
       "      <td>43</td>\n",
       "      <td>33</td>\n",
       "    </tr>\n",
       "    <tr>\n",
       "      <th>李四</th>\n",
       "      <td>37</td>\n",
       "      <td>25</td>\n",
       "    </tr>\n",
       "  </tbody>\n",
       "</table>\n",
       "</div>"
      ],
      "text/plain": [
       "       python  java\n",
       "期中 张三      65    81\n",
       "   李四      65    55\n",
       "期末 张三      43    33\n",
       "   李四      37    25"
      ]
     },
     "execution_count": 17,
     "metadata": {},
     "output_type": "execute_result"
    }
   ],
   "source": [
    "df[[\"python\",\"java\"]]"
   ]
  },
  {
   "cell_type": "code",
   "execution_count": 19,
   "id": "82b0393e-7e93-4f57-a841-79a9e78e21b1",
   "metadata": {},
   "outputs": [
    {
     "data": {
      "text/html": [
       "<div>\n",
       "<style scoped>\n",
       "    .dataframe tbody tr th:only-of-type {\n",
       "        vertical-align: middle;\n",
       "    }\n",
       "\n",
       "    .dataframe tbody tr th {\n",
       "        vertical-align: top;\n",
       "    }\n",
       "\n",
       "    .dataframe thead th {\n",
       "        text-align: right;\n",
       "    }\n",
       "</style>\n",
       "<table border=\"1\" class=\"dataframe\">\n",
       "  <thead>\n",
       "    <tr style=\"text-align: right;\">\n",
       "      <th></th>\n",
       "      <th></th>\n",
       "      <th>python</th>\n",
       "      <th>java</th>\n",
       "      <th>C++</th>\n",
       "    </tr>\n",
       "  </thead>\n",
       "  <tbody>\n",
       "    <tr>\n",
       "      <th>期中</th>\n",
       "      <th>张三</th>\n",
       "      <td>65</td>\n",
       "      <td>81</td>\n",
       "      <td>79</td>\n",
       "    </tr>\n",
       "    <tr>\n",
       "      <th>期末</th>\n",
       "      <th>张三</th>\n",
       "      <td>43</td>\n",
       "      <td>33</td>\n",
       "      <td>47</td>\n",
       "    </tr>\n",
       "  </tbody>\n",
       "</table>\n",
       "</div>"
      ],
      "text/plain": [
       "       python  java  C++\n",
       "期中 张三      65    81   79\n",
       "期末 张三      43    33   47"
      ]
     },
     "execution_count": 19,
     "metadata": {},
     "output_type": "execute_result"
    }
   ],
   "source": [
    "index1=(\"期中\",\"张三\")\n",
    "index2=(\"期末\",\"张三\")\n",
    "df.loc[[index1,index2]]"
   ]
  },
  {
   "cell_type": "code",
   "execution_count": 20,
   "id": "0e95bbde-c395-417c-9dc8-e1f190f3a882",
   "metadata": {},
   "outputs": [
    {
     "data": {
      "text/html": [
       "<div>\n",
       "<style scoped>\n",
       "    .dataframe tbody tr th:only-of-type {\n",
       "        vertical-align: middle;\n",
       "    }\n",
       "\n",
       "    .dataframe tbody tr th {\n",
       "        vertical-align: top;\n",
       "    }\n",
       "\n",
       "    .dataframe thead th {\n",
       "        text-align: right;\n",
       "    }\n",
       "</style>\n",
       "<table border=\"1\" class=\"dataframe\">\n",
       "  <thead>\n",
       "    <tr style=\"text-align: right;\">\n",
       "      <th></th>\n",
       "      <th></th>\n",
       "      <th>python</th>\n",
       "      <th>java</th>\n",
       "      <th>C++</th>\n",
       "    </tr>\n",
       "  </thead>\n",
       "  <tbody>\n",
       "    <tr>\n",
       "      <th>期中</th>\n",
       "      <th>张三</th>\n",
       "      <td>65</td>\n",
       "      <td>81</td>\n",
       "      <td>79</td>\n",
       "    </tr>\n",
       "    <tr>\n",
       "      <th>期末</th>\n",
       "      <th>李四</th>\n",
       "      <td>37</td>\n",
       "      <td>25</td>\n",
       "      <td>54</td>\n",
       "    </tr>\n",
       "  </tbody>\n",
       "</table>\n",
       "</div>"
      ],
      "text/plain": [
       "       python  java  C++\n",
       "期中 张三      65    81   79\n",
       "期末 李四      37    25   54"
      ]
     },
     "execution_count": 20,
     "metadata": {},
     "output_type": "execute_result"
    }
   ],
   "source": [
    "df.iloc[[0,2]]"
   ]
  },
  {
   "cell_type": "code",
   "execution_count": 22,
   "id": "381e5c7f-352c-493a-9eca-99eaae45f288",
   "metadata": {},
   "outputs": [
    {
     "data": {
      "text/html": [
       "<div>\n",
       "<style scoped>\n",
       "    .dataframe tbody tr th:only-of-type {\n",
       "        vertical-align: middle;\n",
       "    }\n",
       "\n",
       "    .dataframe tbody tr th {\n",
       "        vertical-align: top;\n",
       "    }\n",
       "\n",
       "    .dataframe thead th {\n",
       "        text-align: right;\n",
       "    }\n",
       "</style>\n",
       "<table border=\"1\" class=\"dataframe\">\n",
       "  <thead>\n",
       "    <tr style=\"text-align: right;\">\n",
       "      <th></th>\n",
       "      <th></th>\n",
       "      <th>python</th>\n",
       "      <th>java</th>\n",
       "      <th>C++</th>\n",
       "    </tr>\n",
       "  </thead>\n",
       "  <tbody>\n",
       "    <tr>\n",
       "      <th rowspan=\"2\" valign=\"top\">期中</th>\n",
       "      <th>张三</th>\n",
       "      <td>65</td>\n",
       "      <td>81</td>\n",
       "      <td>100</td>\n",
       "    </tr>\n",
       "    <tr>\n",
       "      <th>李四</th>\n",
       "      <td>65</td>\n",
       "      <td>55</td>\n",
       "      <td>86</td>\n",
       "    </tr>\n",
       "    <tr>\n",
       "      <th rowspan=\"2\" valign=\"top\">期末</th>\n",
       "      <th>张三</th>\n",
       "      <td>43</td>\n",
       "      <td>33</td>\n",
       "      <td>47</td>\n",
       "    </tr>\n",
       "    <tr>\n",
       "      <th>李四</th>\n",
       "      <td>37</td>\n",
       "      <td>25</td>\n",
       "      <td>54</td>\n",
       "    </tr>\n",
       "  </tbody>\n",
       "</table>\n",
       "</div>"
      ],
      "text/plain": [
       "       python  java  C++\n",
       "期中 张三      65    81  100\n",
       "   李四      65    55   86\n",
       "期末 张三      43    33   47\n",
       "   李四      37    25   54"
      ]
     },
     "execution_count": 22,
     "metadata": {},
     "output_type": "execute_result"
    }
   ],
   "source": [
    "df.iloc[0,2] =100\n",
    "df"
   ]
  },
  {
   "cell_type": "markdown",
   "id": "ad84484f-1dff-4bc5-a5e0-90f24bd2a235",
   "metadata": {},
   "source": [
    "## 多层次索引的变形\n",
    "- stack\n",
    "- unstack\n",
    "- "
   ]
  },
  {
   "cell_type": "code",
   "execution_count": 23,
   "id": "326cfb07-d34d-41c7-828b-0210d8493672",
   "metadata": {},
   "outputs": [
    {
     "data": {
      "text/html": [
       "<div>\n",
       "<style scoped>\n",
       "    .dataframe tbody tr th:only-of-type {\n",
       "        vertical-align: middle;\n",
       "    }\n",
       "\n",
       "    .dataframe tbody tr th {\n",
       "        vertical-align: top;\n",
       "    }\n",
       "\n",
       "    .dataframe thead th {\n",
       "        text-align: right;\n",
       "    }\n",
       "</style>\n",
       "<table border=\"1\" class=\"dataframe\">\n",
       "  <thead>\n",
       "    <tr style=\"text-align: right;\">\n",
       "      <th></th>\n",
       "      <th></th>\n",
       "      <th>python</th>\n",
       "      <th>java</th>\n",
       "      <th>C++</th>\n",
       "    </tr>\n",
       "  </thead>\n",
       "  <tbody>\n",
       "    <tr>\n",
       "      <th rowspan=\"2\" valign=\"top\">期中</th>\n",
       "      <th>张三</th>\n",
       "      <td>65</td>\n",
       "      <td>81</td>\n",
       "      <td>100</td>\n",
       "    </tr>\n",
       "    <tr>\n",
       "      <th>李四</th>\n",
       "      <td>65</td>\n",
       "      <td>55</td>\n",
       "      <td>86</td>\n",
       "    </tr>\n",
       "    <tr>\n",
       "      <th rowspan=\"2\" valign=\"top\">期末</th>\n",
       "      <th>张三</th>\n",
       "      <td>43</td>\n",
       "      <td>33</td>\n",
       "      <td>47</td>\n",
       "    </tr>\n",
       "    <tr>\n",
       "      <th>李四</th>\n",
       "      <td>37</td>\n",
       "      <td>25</td>\n",
       "      <td>54</td>\n",
       "    </tr>\n",
       "  </tbody>\n",
       "</table>\n",
       "</div>"
      ],
      "text/plain": [
       "       python  java  C++\n",
       "期中 张三      65    81  100\n",
       "   李四      65    55   86\n",
       "期末 张三      43    33   47\n",
       "   李四      37    25   54"
      ]
     },
     "execution_count": 23,
     "metadata": {},
     "output_type": "execute_result"
    }
   ],
   "source": [
    "df"
   ]
  },
  {
   "cell_type": "code",
   "execution_count": 32,
   "id": "e6000761-45eb-4055-b298-a8347fed5937",
   "metadata": {},
   "outputs": [
    {
     "data": {
      "text/html": [
       "<div>\n",
       "<style scoped>\n",
       "    .dataframe tbody tr th:only-of-type {\n",
       "        vertical-align: middle;\n",
       "    }\n",
       "\n",
       "    .dataframe tbody tr th {\n",
       "        vertical-align: top;\n",
       "    }\n",
       "\n",
       "    .dataframe thead tr th {\n",
       "        text-align: left;\n",
       "    }\n",
       "</style>\n",
       "<table border=\"1\" class=\"dataframe\">\n",
       "  <thead>\n",
       "    <tr>\n",
       "      <th></th>\n",
       "      <th colspan=\"2\" halign=\"left\">python</th>\n",
       "      <th colspan=\"2\" halign=\"left\">java</th>\n",
       "      <th colspan=\"2\" halign=\"left\">C++</th>\n",
       "    </tr>\n",
       "    <tr>\n",
       "      <th></th>\n",
       "      <th>期中</th>\n",
       "      <th>期末</th>\n",
       "      <th>期中</th>\n",
       "      <th>期末</th>\n",
       "      <th>期中</th>\n",
       "      <th>期末</th>\n",
       "    </tr>\n",
       "  </thead>\n",
       "  <tbody>\n",
       "    <tr>\n",
       "      <th>张三</th>\n",
       "      <td>65</td>\n",
       "      <td>43</td>\n",
       "      <td>81</td>\n",
       "      <td>33</td>\n",
       "      <td>100</td>\n",
       "      <td>47</td>\n",
       "    </tr>\n",
       "    <tr>\n",
       "      <th>李四</th>\n",
       "      <td>65</td>\n",
       "      <td>37</td>\n",
       "      <td>55</td>\n",
       "      <td>25</td>\n",
       "      <td>86</td>\n",
       "      <td>54</td>\n",
       "    </tr>\n",
       "  </tbody>\n",
       "</table>\n",
       "</div>"
      ],
      "text/plain": [
       "   python     java      C++    \n",
       "       期中  期末   期中  期末   期中  期末\n",
       "张三     65  43   81  33  100  47\n",
       "李四     65  37   55  25   86  54"
      ]
     },
     "execution_count": 32,
     "metadata": {},
     "output_type": "execute_result"
    }
   ],
   "source": [
    "# 默认-1\n",
    "df1=df.unstack(level=-2)\n",
    "df1"
   ]
  },
  {
   "cell_type": "code",
   "execution_count": 30,
   "id": "6deeceb8-d205-4166-b6db-469a013539ea",
   "metadata": {},
   "outputs": [
    {
     "data": {
      "text/html": [
       "<div>\n",
       "<style scoped>\n",
       "    .dataframe tbody tr th:only-of-type {\n",
       "        vertical-align: middle;\n",
       "    }\n",
       "\n",
       "    .dataframe tbody tr th {\n",
       "        vertical-align: top;\n",
       "    }\n",
       "\n",
       "    .dataframe thead th {\n",
       "        text-align: right;\n",
       "    }\n",
       "</style>\n",
       "<table border=\"1\" class=\"dataframe\">\n",
       "  <thead>\n",
       "    <tr style=\"text-align: right;\">\n",
       "      <th></th>\n",
       "      <th></th>\n",
       "      <th>期中</th>\n",
       "      <th>期末</th>\n",
       "    </tr>\n",
       "  </thead>\n",
       "  <tbody>\n",
       "    <tr>\n",
       "      <th rowspan=\"3\" valign=\"top\">张三</th>\n",
       "      <th>C++</th>\n",
       "      <td>100</td>\n",
       "      <td>47</td>\n",
       "    </tr>\n",
       "    <tr>\n",
       "      <th>java</th>\n",
       "      <td>81</td>\n",
       "      <td>33</td>\n",
       "    </tr>\n",
       "    <tr>\n",
       "      <th>python</th>\n",
       "      <td>65</td>\n",
       "      <td>43</td>\n",
       "    </tr>\n",
       "    <tr>\n",
       "      <th rowspan=\"3\" valign=\"top\">李四</th>\n",
       "      <th>C++</th>\n",
       "      <td>86</td>\n",
       "      <td>54</td>\n",
       "    </tr>\n",
       "    <tr>\n",
       "      <th>java</th>\n",
       "      <td>55</td>\n",
       "      <td>25</td>\n",
       "    </tr>\n",
       "    <tr>\n",
       "      <th>python</th>\n",
       "      <td>65</td>\n",
       "      <td>37</td>\n",
       "    </tr>\n",
       "  </tbody>\n",
       "</table>\n",
       "</div>"
      ],
      "text/plain": [
       "            期中  期末\n",
       "张三 C++     100  47\n",
       "   java     81  33\n",
       "   python   65  43\n",
       "李四 C++      86  54\n",
       "   java     55  25\n",
       "   python   65  37"
      ]
     },
     "execution_count": 30,
     "metadata": {},
     "output_type": "execute_result"
    }
   ],
   "source": [
    "df1.stack(level=-2)"
   ]
  }
 ],
 "metadata": {
  "kernelspec": {
   "display_name": "Python 3 (ipykernel)",
   "language": "python",
   "name": "python3"
  },
  "language_info": {
   "codemirror_mode": {
    "name": "ipython",
    "version": 3
   },
   "file_extension": ".py",
   "mimetype": "text/x-python",
   "name": "python",
   "nbconvert_exporter": "python",
   "pygments_lexer": "ipython3",
   "version": "3.11.1"
  }
 },
 "nbformat": 4,
 "nbformat_minor": 5
}
