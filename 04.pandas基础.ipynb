{
 "cells": [
  {
   "cell_type": "markdown",
   "id": "c544665b-2512-48d3-b1bc-bbb89d8843eb",
   "metadata": {},
   "source": [
    "# Pandas的学习\n",
    "- 数据分析三剑客\n",
    " - numpy 是解决计算的问题\n",
    " - Pandas是解决业务的方法\n",
    " - matplotlib 是做绘图展示用"
   ]
  },
  {
   "cell_type": "code",
   "execution_count": 1,
   "id": "e242230a-e798-45fc-91be-7a1e5fbce27c",
   "metadata": {},
   "outputs": [],
   "source": [
    "import numpy as np\n",
    "import pandas as pd\n",
    "from pandas import Series, DataFrame\n",
    "import matplotlib as mpl"
   ]
  },
  {
   "attachments": {
    "4b3f3563-231a-45cf-a591-f42f2d49567d.png": {
     "image/png": "[encoded data removed]"
    }
   },
   "cell_type": "markdown",
   "id": "0b7097b1-113a-4210-ab22-5e3a944af109",
   "metadata": {},
   "source": [
    "## 1 series\n",
    "- 一维数组： 有序的数据类型，相同的集合  \n",
    "- series： 是一维数组的强化版，增加了像字典一样的{Key：value}的访问机制，同时也保留了数组的访问机制  \n",
    "- 字典：只是无序的集合  \n",
    "![image.png](attachment:4b3f3563-231a-45cf-a591-f42f2d49567d.png)\n",
    "\n",
    "### 1.1 如何创建Series\n",
    "- 通过列表，建立副本\n",
    "- 通过np，建立引用\n",
    "- 通过字典\n",
    "- "
   ]
  },
  {
   "cell_type": "code",
   "execution_count": 2,
   "id": "ad791813-3b01-43fa-ae3c-b4a3e570d4ff",
   "metadata": {},
   "outputs": [
    {
     "data": {
      "text/plain": [
       "0      tom\n",
       "1     jack\n",
       "2    marry\n",
       "3     mike\n",
       "dtype: object"
      ]
     },
     "execution_count": 2,
     "metadata": {},
     "output_type": "execute_result"
    }
   ],
   "source": [
    "# 通过list列表构造， 副本操作，当name中的值变化时，不影响series的值\n",
    "names = [\"tom\",\"jack\",\"marry\",\"mike\"]\n",
    "names\n",
    "s = Series(names)\n",
    "s"
   ]
  },
  {
   "cell_type": "code",
   "execution_count": 3,
   "id": "6756c48d-d0dc-479c-a7e8-10e85b2a4e83",
   "metadata": {},
   "outputs": [
    {
     "data": {
      "text/plain": [
       "0    1.0\n",
       "1    1.0\n",
       "2    1.0\n",
       "3    1.0\n",
       "4    1.0\n",
       "dtype: float64"
      ]
     },
     "execution_count": 3,
     "metadata": {},
     "output_type": "execute_result"
    }
   ],
   "source": [
    "# 通过np构造  引用操作，当np的元素发生变化后， 直接影响到series的值\n",
    "arr = np.ones(5)\n",
    "arr\n",
    "s = Series(arr)\n",
    "s"
   ]
  },
  {
   "cell_type": "code",
   "execution_count": 4,
   "id": "4146d9d0-a560-492d-82a8-bde941386a56",
   "metadata": {},
   "outputs": [
    {
     "data": {
      "text/plain": [
       "k1      tom\n",
       "k2     jack\n",
       "k3    marry\n",
       "k4     mike\n",
       "dtype: object"
      ]
     },
     "execution_count": 4,
     "metadata": {},
     "output_type": "execute_result"
    }
   ],
   "source": [
    "#r如果没有显示索引，默认使用隐式索引填充\n",
    "s2 = Series(data =names, index=[\"k1\",\"k2\",\"k3\",\"k4\"])\n",
    "s2"
   ]
  },
  {
   "cell_type": "code",
   "execution_count": 5,
   "id": "35c50b87-b20a-4938-9836-d53b6950a2d8",
   "metadata": {},
   "outputs": [
    {
     "data": {
      "text/plain": [
       "k1     tom\n",
       "k3    mary\n",
       "k2    jakc\n",
       "dtype: object"
      ]
     },
     "execution_count": 5,
     "metadata": {},
     "output_type": "execute_result"
    }
   ],
   "source": [
    "#通过字典构造\n",
    "dic ={\n",
    "    \"k1\":\"tom\",\n",
    "    \"k3\":\"mary\",\n",
    "    \"k2\":\"jakc\"\n",
    "}\n",
    "s3 = Series(data=dic)\n",
    "s3"
   ]
  },
  {
   "cell_type": "markdown",
   "id": "4b9a8c28-ab9e-45a3-b935-f9efb9f5f05f",
   "metadata": {},
   "source": [
    "### 1.2 Series的索引与切片\n",
    "- 可以使用括号去取单个索引  \n",
    "- 或者通过括号中的列表取多个索引  \n",
    "### 索引分显式索引和隐式索引\n",
    " （1）显式索引   \n",
    "- 使用index中的元素作为引值  \n",
    "- 使用.loc[]  \n",
    "  ！！注意：此时时闭区间  \n",
    " （2）隐式索引  \n",
    "- 使用整数作为索引值  \n",
    "- 使用.iloc[]  \n",
    "  ！！注意：此时时开区间  \n",
    " (3) 使用bool列表访问  \n",
    "- 如果使用Series的bool列表， 要注意索引对齐，顺序可以不一致，内容要求一致  \n",
    "- bool列表要和访问的对象的长度保持一致  \n",
    "### 切片\n",
    "- .loc[]  :闭区间  \n",
    "- .iloc[] ：开区间\n",
    "- 数组    \n",
    "- 字典  \n"
   ]
  },
  {
   "cell_type": "code",
   "execution_count": 6,
   "id": "9406f434-2a61-4a76-b031-cc67449e7562",
   "metadata": {},
   "outputs": [
    {
     "data": {
      "text/plain": [
       "array([12, 46, 79, 67, 23])"
      ]
     },
     "execution_count": 6,
     "metadata": {},
     "output_type": "execute_result"
    }
   ],
   "source": [
    "arr = np.random.randint(10,100,size=5)\n",
    "arr"
   ]
  },
  {
   "cell_type": "code",
   "execution_count": 7,
   "id": "5565af5c-35b5-4fc0-96cc-4bb4f06040ba",
   "metadata": {},
   "outputs": [
    {
     "data": {
      "text/plain": [
       "array([12, 46, 12, 46])"
      ]
     },
     "execution_count": 7,
     "metadata": {},
     "output_type": "execute_result"
    }
   ],
   "source": [
    "arr[[0,1,0,1]]"
   ]
  },
  {
   "cell_type": "code",
   "execution_count": 8,
   "id": "51e68f09-12de-4c50-a974-94efdcbe16ca",
   "metadata": {},
   "outputs": [
    {
     "data": {
      "text/plain": [
       "array([12, 46])"
      ]
     },
     "execution_count": 8,
     "metadata": {},
     "output_type": "execute_result"
    }
   ],
   "source": [
    "arr[[True,True,False,False,False]]"
   ]
  },
  {
   "cell_type": "code",
   "execution_count": 9,
   "id": "e9f2c735-b485-4506-8d42-f8312f476679",
   "metadata": {},
   "outputs": [
    {
     "data": {
      "text/plain": [
       "tom      12\n",
       "jake     46\n",
       "tony     79\n",
       "marry    67\n",
       "mike     23\n",
       "dtype: int32"
      ]
     },
     "execution_count": 9,
     "metadata": {},
     "output_type": "execute_result"
    }
   ],
   "source": [
    "s = Series(data=arr,index=[\"tom\",\"jake\",\"tony\",\"marry\",\"mike\"])\n",
    "s"
   ]
  },
  {
   "cell_type": "code",
   "execution_count": 10,
   "id": "6971ac16-cec3-4438-a833-fbef50270d7c",
   "metadata": {},
   "outputs": [
    {
     "data": {
      "text/plain": [
       "12"
      ]
     },
     "execution_count": 10,
     "metadata": {},
     "output_type": "execute_result"
    }
   ],
   "source": [
    "#使用显示索引,类似字典ij\n",
    "s[\"tom\"]"
   ]
  },
  {
   "cell_type": "code",
   "execution_count": 11,
   "id": "f09dcd2a-9424-4fc0-a6ef-7dad093fcc36",
   "metadata": {},
   "outputs": [
    {
     "data": {
      "text/plain": [
       "tom    12\n",
       "dtype: int32"
      ]
     },
     "execution_count": 11,
     "metadata": {},
     "output_type": "execute_result"
    }
   ],
   "source": [
    "s[[\"tom\"]]"
   ]
  },
  {
   "cell_type": "code",
   "execution_count": 12,
   "id": "983101cb-4d92-4427-bf1a-e9940a1f04b6",
   "metadata": {},
   "outputs": [
    {
     "data": {
      "text/plain": [
       "tom     12\n",
       "mike    23\n",
       "dtype: int32"
      ]
     },
     "execution_count": 12,
     "metadata": {},
     "output_type": "execute_result"
    }
   ],
   "source": [
    "s[[\"tom\",\"mike\"]]"
   ]
  },
  {
   "cell_type": "code",
   "execution_count": 13,
   "id": "8e872eff-7c07-420c-b3bb-cf5b7378e198",
   "metadata": {},
   "outputs": [
    {
     "data": {
      "text/plain": [
       "tom     12\n",
       "mike    23\n",
       "dtype: int32"
      ]
     },
     "execution_count": 13,
     "metadata": {},
     "output_type": "execute_result"
    }
   ],
   "source": [
    "#使用loc配合显式索引访问\n",
    "s.loc[[\"tom\",\"mike\"]]"
   ]
  },
  {
   "cell_type": "code",
   "execution_count": 14,
   "id": "d5ca709c-3409-49a4-a3d0-7fdbd122bd85",
   "metadata": {},
   "outputs": [
    {
     "data": {
      "text/plain": [
       "tom     12\n",
       "jake    46\n",
       "dtype: int32"
      ]
     },
     "execution_count": 14,
     "metadata": {},
     "output_type": "execute_result"
    }
   ],
   "source": [
    "#使用iloc配合隐式索引访问\n",
    "s.iloc[[0,1]]"
   ]
  },
  {
   "cell_type": "code",
   "execution_count": 15,
   "id": "d886dc52-d3b0-4b1c-a282-141fb6986258",
   "metadata": {},
   "outputs": [],
   "source": [
    "#使用带索引的bool的Series列表访问\n",
    "s_bool = Series(data=[True,True,False,False,False],index=[\"tom\",\"jake\",\"tony\",\"marry\",\"mike\"])\n",
    "n_bool = np.array([True,True,False,False,False])\n",
    "l_bool = [True,True,False,False,False]"
   ]
  },
  {
   "cell_type": "code",
   "execution_count": 16,
   "id": "9f749b84-2246-4f7c-a342-4d0bed4a5ecd",
   "metadata": {},
   "outputs": [
    {
     "data": {
      "text/plain": [
       "tom     12\n",
       "jake    46\n",
       "dtype: int32"
      ]
     },
     "execution_count": 16,
     "metadata": {},
     "output_type": "execute_result"
    }
   ],
   "source": [
    "s[n_bool]"
   ]
  },
  {
   "cell_type": "code",
   "execution_count": 17,
   "id": "504c19e2-37b4-4dbe-8af7-bd8f6d0ebbaa",
   "metadata": {},
   "outputs": [
    {
     "data": {
      "text/plain": [
       "tom     12\n",
       "jake    46\n",
       "dtype: int32"
      ]
     },
     "execution_count": 17,
     "metadata": {},
     "output_type": "execute_result"
    }
   ],
   "source": [
    "s[l_bool]"
   ]
  },
  {
   "cell_type": "code",
   "execution_count": 18,
   "id": "c18941d2-ef00-4672-bccc-e6905982c318",
   "metadata": {},
   "outputs": [
    {
     "data": {
      "text/plain": [
       "tom     12\n",
       "jake    46\n",
       "dtype: int32"
      ]
     },
     "execution_count": 18,
     "metadata": {},
     "output_type": "execute_result"
    }
   ],
   "source": [
    "s[s_bool]"
   ]
  },
  {
   "cell_type": "code",
   "execution_count": 19,
   "id": "76bdd68b-d942-43f7-b1ba-56e7941f2446",
   "metadata": {},
   "outputs": [
    {
     "data": {
      "text/plain": [
       "tom      False\n",
       "jake     False\n",
       "tony      True\n",
       "marry     True\n",
       "mike     False\n",
       "dtype: bool"
      ]
     },
     "execution_count": 19,
     "metadata": {},
     "output_type": "execute_result"
    }
   ],
   "source": [
    "#通过bool索引，快速筛选元素\n",
    "s>60"
   ]
  },
  {
   "cell_type": "code",
   "execution_count": 20,
   "id": "ba11d328-7a1c-45ba-a642-c2f90a7a320a",
   "metadata": {},
   "outputs": [
    {
     "data": {
      "text/plain": [
       "tony     79\n",
       "marry    67\n",
       "dtype: int32"
      ]
     },
     "execution_count": 20,
     "metadata": {},
     "output_type": "execute_result"
    }
   ],
   "source": [
    "s[s>60]"
   ]
  },
  {
   "cell_type": "code",
   "execution_count": null,
   "id": "5d5d1b58-3121-40ea-a93f-0ef8009a0d9c",
   "metadata": {
    "scrolled": true
   },
   "outputs": [],
   "source": [
    "s[\"tom\":\"tony\"]"
   ]
  },
  {
   "cell_type": "markdown",
   "id": "16de9a43-67c2-4db8-918d-da7d6a15e88c",
   "metadata": {},
   "source": [
    "### 1.3 Series的概念\n",
    "- 可以把Series看成定长的有序字典\n",
    "- 可以通过 shape，size，index，values等得到series的属性\n",
    "- 当索引没有对应的值时，可能出现缺失数据显示NAN(not a number)的情况\n",
    "- 可以使用pd.isnull(),pd.notnull(),或者自带isnull(),notnull()函数检测缺失数据\n",
    "- 使用bool型的列表访问数组对象\n",
    "- Series对象本身及其实例都有一个name属性\n",
    "- 可以使用head(),tail()分别查看前n和后n的值\n"
   ]
  },
  {
   "cell_type": "code",
   "execution_count": 22,
   "id": "a44f8184-795e-4a74-b297-78d2aa0aa1e9",
   "metadata": {},
   "outputs": [
    {
     "data": {
      "text/plain": [
       "True"
      ]
     },
     "execution_count": 22,
     "metadata": {},
     "output_type": "execute_result"
    }
   ],
   "source": [
    "#查找tom在不在value中，返回bool\n",
    "(s.index == \"tom\").any()"
   ]
  },
  {
   "cell_type": "code",
   "execution_count": null,
   "id": "3da57f2e-db09-4545-b705-ecce39d1657d",
   "metadata": {
    "scrolled": true
   },
   "outputs": [],
   "source": [
    "#通过索引赋值新series\n",
    "# name 当多个series组合成二维表格的时候， name将作为当前列的列名（字段名）\n",
    "s2 = Series(data =np.random.randint(0,150,size=5),index=s.index,name=\"score\")\n",
    "s2"
   ]
  },
  {
   "cell_type": "markdown",
   "id": "d54cd372-f6e0-4046-ae8f-109e4065be34",
   "metadata": {},
   "source": [
    "### 1.4 排序\n",
    "- 根据值排序\n",
    "- 根据索引排序\n",
    "- 统计值出现的次数\n",
    "  \n",
    "**扩展知识**\n",
    "  RFM :\n",
    "  R: 最近消费时间\n",
    "  F：消费频率\n",
    "  M：消费金额"
   ]
  },
  {
   "cell_type": "code",
   "execution_count": 24,
   "id": "1756b6ae-5597-49ae-a16e-efdcad407482",
   "metadata": {
    "scrolled": true
   },
   "outputs": [
    {
     "data": {
      "text/plain": [
       "jake     124\n",
       "marry     97\n",
       "mike      27\n",
       "tony      24\n",
       "tom        0\n",
       "Name: score, dtype: int32"
      ]
     },
     "execution_count": 24,
     "metadata": {},
     "output_type": "execute_result"
    }
   ],
   "source": [
    "#根据value值来排序，默认升序排列\n",
    "s2.sort_values()\n",
    "s2.sort_values(ascending=False)"
   ]
  },
  {
   "cell_type": "code",
   "execution_count": 25,
   "id": "5fc72ae5-ae64-4c90-bd2a-f28c2dadf1fe",
   "metadata": {
    "scrolled": true
   },
   "outputs": [
    {
     "data": {
      "text/plain": [
       "jake     124\n",
       "marry     97\n",
       "mike      27\n",
       "tom        0\n",
       "tony      24\n",
       "Name: score, dtype: int32"
      ]
     },
     "execution_count": 25,
     "metadata": {},
     "output_type": "execute_result"
    }
   ],
   "source": [
    "#根据index值来排序，默认升序排列\n",
    "s2.sort_index()"
   ]
  },
  {
   "cell_type": "code",
   "execution_count": 26,
   "id": "ee076f78-e282-4f28-a336-0875fdf25484",
   "metadata": {},
   "outputs": [
    {
     "data": {
      "text/plain": [
       "7    15\n",
       "9    14\n",
       "8    13\n",
       "5    13\n",
       "4    13\n",
       "1    10\n",
       "2    10\n",
       "3     8\n",
       "6     4\n",
       "Name: count, dtype: int64"
      ]
     },
     "execution_count": 26,
     "metadata": {},
     "output_type": "execute_result"
    }
   ],
   "source": [
    "# 统计频率\n",
    "user_id =Series(data=np.random.randint(1,10,100))\n",
    "user_id.value_counts()"
   ]
  },
  {
   "cell_type": "markdown",
   "id": "adae572a-9bc8-472e-8561-1057d901800a",
   "metadata": {},
   "source": [
    "## 1.5 Series运算\n",
    "- series与数字运算，符合广播运算\n",
    "- series与series之间的运算， 显式索引对齐，\n",
    "## 运算符的使用\n",
    "- add(): 加\n",
    "- sub()：减\n",
    "- mul()：乘\n",
    "- div()：除"
   ]
  },
  {
   "cell_type": "code",
   "execution_count": 29,
   "id": "cfed66fd-6de8-4bc4-b055-5eafd9ea99ff",
   "metadata": {},
   "outputs": [
    {
     "data": {
      "text/plain": [
       "A    5\n",
       "B    7\n",
       "C    4\n",
       "D    7\n",
       "E    4\n",
       "dtype: int32"
      ]
     },
     "metadata": {},
     "output_type": "display_data"
    },
    {
     "data": {
      "text/plain": [
       "A    4\n",
       "B    2\n",
       "C    2\n",
       "D    0\n",
       "E    4\n",
       "dtype: int32"
      ]
     },
     "metadata": {},
     "output_type": "display_data"
    }
   ],
   "source": [
    "s1 = Series(data=np.random.randint(0,10,size=5),index=list(\"ABCDE\"))\n",
    "s2 = Series(data=np.random.randint(0,10,size=5),index=list(\"ABCDE\"))\n",
    "display(s1,s2)"
   ]
  },
  {
   "cell_type": "code",
   "execution_count": 30,
   "id": "6afb16fe-98ca-49d6-b7cd-194e3743162c",
   "metadata": {},
   "outputs": [
    {
     "data": {
      "text/plain": [
       "A    9\n",
       "B    9\n",
       "C    6\n",
       "D    7\n",
       "E    8\n",
       "dtype: int32"
      ]
     },
     "execution_count": 30,
     "metadata": {},
     "output_type": "execute_result"
    }
   ],
   "source": [
    "s1+s2"
   ]
  },
  {
   "cell_type": "code",
   "execution_count": 40,
   "id": "5ee92977-3abd-406f-acf2-2c0df61f1db3",
   "metadata": {},
   "outputs": [
    {
     "data": {
      "text/plain": [
       "A    1\n",
       "B    6\n",
       "C    3\n",
       "D    5\n",
       "E    2\n",
       "dtype: int32"
      ]
     },
     "metadata": {},
     "output_type": "display_data"
    },
    {
     "data": {
      "text/plain": [
       "B    1\n",
       "C    6\n",
       "D    4\n",
       "E    9\n",
       "dtype: int32"
      ]
     },
     "metadata": {},
     "output_type": "display_data"
    }
   ],
   "source": [
    "s3 = Series(data=np.random.randint(0,10,size=5),index=list(\"ABCDE\"))\n",
    "s4 = Series(data=np.random.randint(0,10,size=4),index=list(\"BCDE\"))\n",
    "display(s3,s4)"
   ]
  },
  {
   "cell_type": "code",
   "execution_count": 41,
   "id": "151bf8b0-31c3-482f-9bc2-a5c087ac3a90",
   "metadata": {},
   "outputs": [
    {
     "data": {
      "text/plain": [
       "A     1.0\n",
       "B     7.0\n",
       "C     9.0\n",
       "D     9.0\n",
       "E    11.0\n",
       "dtype: float64"
      ]
     },
     "execution_count": 41,
     "metadata": {},
     "output_type": "execute_result"
    }
   ],
   "source": [
    "#保留空值的方法\n",
    "s3.add(s4,fill_value=0)"
   ]
  }
 ],
 "metadata": {
  "kernelspec": {
   "display_name": "Python 3 (ipykernel)",
   "language": "python",
   "name": "python3"
  },
  "language_info": {
   "codemirror_mode": {
    "name": "ipython",
    "version": 3
   },
   "file_extension": ".py",
   "mimetype": "text/x-python",
   "name": "python",
   "nbconvert_exporter": "python",
   "pygments_lexer": "ipython3",
   "version": "3.11.1"
  }
 },
 "nbformat": 4,
 "nbformat_minor": 5
}
